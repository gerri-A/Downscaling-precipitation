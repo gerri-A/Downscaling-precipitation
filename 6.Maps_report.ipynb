{
 "cells": [
  {
   "cell_type": "code",
   "execution_count": 1,
   "metadata": {},
   "outputs": [
    {
     "name": "stdout",
     "output_type": "stream",
     "text": [
      "Requirement already satisfied: xarray in /opt/conda/lib/python3.7/site-packages (0.16.1)\n",
      "Requirement already satisfied: setuptools>=38.4 in /opt/conda/lib/python3.7/site-packages (from xarray) (50.3.0)\n",
      "Requirement already satisfied: pandas>=0.25 in /opt/conda/lib/python3.7/site-packages (from xarray) (1.1.2)\n",
      "Requirement already satisfied: numpy>=1.15 in /opt/conda/lib/python3.7/site-packages (from xarray) (1.18.5)\n",
      "Requirement already satisfied: pytz>=2017.2 in /opt/conda/lib/python3.7/site-packages (from pandas>=0.25->xarray) (2020.1)\n",
      "Requirement already satisfied: python-dateutil>=2.7.3 in /opt/conda/lib/python3.7/site-packages (from pandas>=0.25->xarray) (2.8.1)\n",
      "Requirement already satisfied: six>=1.5 in /opt/conda/lib/python3.7/site-packages (from python-dateutil>=2.7.3->pandas>=0.25->xarray) (1.15.0)\n",
      "Requirement already satisfied: netCDF4 in /opt/conda/lib/python3.7/site-packages (1.5.4)\n",
      "Requirement already satisfied: numpy>=1.9 in /opt/conda/lib/python3.7/site-packages (from netCDF4) (1.18.5)\n",
      "Requirement already satisfied: cftime in /opt/conda/lib/python3.7/site-packages (from netCDF4) (1.2.1)\n",
      "Requirement already satisfied: h5netcdf in /opt/conda/lib/python3.7/site-packages (0.8.1)\n",
      "Requirement already satisfied: h5py in /opt/conda/lib/python3.7/site-packages (from h5netcdf) (2.10.0)\n",
      "Requirement already satisfied: numpy>=1.7 in /opt/conda/lib/python3.7/site-packages (from h5py->h5netcdf) (1.18.5)\n",
      "Requirement already satisfied: six in /opt/conda/lib/python3.7/site-packages (from h5py->h5netcdf) (1.15.0)\n",
      "Requirement already satisfied: rasterio in /opt/conda/lib/python3.7/site-packages (1.1.7)\n",
      "Requirement already satisfied: cligj>=0.5 in /opt/conda/lib/python3.7/site-packages (from rasterio) (0.5.0)\n",
      "Requirement already satisfied: click-plugins in /opt/conda/lib/python3.7/site-packages (from rasterio) (1.1.1)\n",
      "Requirement already satisfied: attrs in /opt/conda/lib/python3.7/site-packages (from rasterio) (20.2.0)\n",
      "Requirement already satisfied: click<8,>=4.0 in /opt/conda/lib/python3.7/site-packages (from rasterio) (7.1.2)\n",
      "Requirement already satisfied: affine in /opt/conda/lib/python3.7/site-packages (from rasterio) (2.3.0)\n",
      "Requirement already satisfied: snuggs>=1.4.1 in /opt/conda/lib/python3.7/site-packages (from rasterio) (1.4.7)\n",
      "Requirement already satisfied: numpy in /opt/conda/lib/python3.7/site-packages (from rasterio) (1.18.5)\n",
      "Requirement already satisfied: pyparsing>=2.1.6 in /opt/conda/lib/python3.7/site-packages (from snuggs>=1.4.1->rasterio) (2.4.7)\n"
     ]
    }
   ],
   "source": [
    "!pip install xarray\n",
    "!pip install netCDF4\n",
    "!pip install h5netcdf\n",
    "!pip install rasterio"
   ]
  },
  {
   "cell_type": "code",
   "execution_count": 2,
   "metadata": {},
   "outputs": [],
   "source": [
    "import google.cloud.storage\n",
    "import io\n",
    "import numpy as np\n",
    "import matplotlib.pyplot as plt\n",
    "import xarray\n",
    "import rasterio\n",
    "from natsort import natsorted \n",
    "import tempfile\n",
    "from rasterio.io import MemoryFile\n",
    "from rasterio.plot import show\n",
    "import tensorflow as tf\n",
    "import pickle"
   ]
  },
  {
   "cell_type": "code",
   "execution_count": 3,
   "metadata": {},
   "outputs": [],
   "source": [
    "client = google.cloud.storage.Client()"
   ]
  },
  {
   "cell_type": "code",
   "execution_count": 4,
   "metadata": {},
   "outputs": [],
   "source": [
    "bucket = client.get_bucket('era-ml-upressing')"
   ]
  },
  {
   "cell_type": "code",
   "execution_count": 5,
   "metadata": {},
   "outputs": [],
   "source": [
    "#select period\n",
    "selection = np.s_[1460:]  #select 1980, 1980-01-02 to 1980-12-31 leap year\n",
    "\n",
    "#ERA-20C\n",
    "files_folder_era20C= !gsutil ls -r 'gs://era-ml-upressing/Predict'\n",
    "files_era20C_list = natsorted(files_folder_era20C[2:])\n",
    "files_era20C= [file[22:] for file in files_era20C_list[selection]]\n",
    "\n",
    "#ERA5\n",
    "files_folder_era5= !gsutil ls -r 'gs://era-ml-upressing/Test'\n",
    "files_era5_list = natsorted(files_folder_era5[2:])\n",
    "files_era5= [file[22:] for file in files_era5_list[:]]\n"
   ]
  },
  {
   "cell_type": "code",
   "execution_count": 47,
   "metadata": {},
   "outputs": [],
   "source": [
    "from rasterio.transform import Affine\n",
    "from rasterio.enums import Resampling\n",
    "#to calculate mean RMSE of 2000\n",
    "RMSEint=[]\n",
    "RMSEdown=[]\n",
    "for i in range(364):\n",
    "    day_nr=i\n",
    "    day= np.s_[day_nr]\n",
    "    fileERA20C = files_era20C[day]\n",
    "    fileERA5 = files_era5[day]\n",
    "    blob = bucket.get_blob(fileERA20C)\n",
    "    blob2 = bucket.get_blob(fileERA5)                        \n",
    "    stream = io.BytesIO(blob.download_as_string())  \n",
    "    stream2 = io.BytesIO(blob2.download_as_string())  \n",
    "    with MemoryFile(stream) as memfile:                          \n",
    "        with memfile.open() as dataset:                          #open file, dataset contains all data\n",
    "            ERA20c = xarray.open_rasterio(dataset)\n",
    "            arr_256 = dataset.read(out_shape=(dataset.count, 256,256), resampling=Resampling.bilinear)\n",
    "    with MemoryFile(stream2) as memfile2:                          \n",
    "        with memfile2.open() as dataset2: \n",
    "            ERA5 = xarray.open_rasterio(dataset2)\n",
    "            ERA5_flat = np.ndarray.flatten(ERA5[4].data)\n",
    "    with xarray.open_dataset('DownscaledERA20C-2000-2001.nc') as downscaled:\n",
    "        downscaled_day = downscaled.isel(time=day_nr).squeeze()\n",
    "        downscaled_arr = xarray.Dataset.to_array(downscaled_day)\n",
    "        downscaled_flat = np.ndarray.flatten(downscaled_arr.data)\n",
    "    dif = ERA5_flat - downscaled_flat \n",
    "    dif_map = dif.reshape(256,256)\n",
    "    dif2 = ERA5_flat - np.ndarray.flatten(arr_256)\n",
    "    dif2map = dif2.reshape(256,256)\n",
    "    RMSEdown.append((np.sqrt(dif_map **2)).mean()*1000)\n",
    "    RMSEint.append((np.sqrt(dif2map **2)).mean()*1000)\n",
    "\n"
   ]
  },
  {
   "cell_type": "code",
   "execution_count": 6,
   "metadata": {},
   "outputs": [],
   "source": [
    "from rasterio.transform import Affine\n",
    "from rasterio.enums import Resampling\n",
    "# for plotting, choose day number\n",
    "day_nr=3\n",
    "day= np.s_[day_nr]\n",
    "fileERA20C = files_era20C[day]\n",
    "fileERA5 = files_era5[day]\n",
    "blob = bucket.get_blob(fileERA20C)\n",
    "blob2 = bucket.get_blob(fileERA5)                        \n",
    "stream = io.BytesIO(blob.download_as_string())  \n",
    "stream2 = io.BytesIO(blob2.download_as_string())  \n",
    "with MemoryFile(stream) as memfile:                          \n",
    "    with memfile.open() as dataset:                          #open file, dataset contains all data\n",
    "        ERA20c = xarray.open_rasterio(dataset)\n",
    "        arr_256 = dataset.read(out_shape=(dataset.count, 256,256), resampling=Resampling.bilinear)\n",
    "with MemoryFile(stream2) as memfile2:                          \n",
    "    with memfile2.open() as dataset2: \n",
    "        ERA5 = xarray.open_rasterio(dataset2)\n",
    "        ERA5_flat = np.ndarray.flatten(ERA5[4].data)\n",
    "with xarray.open_dataset('DownscaledERA20C-2000-2001.nc') as downscaled:\n",
    "    downscaled_day = downscaled.isel(time=day_nr).squeeze()\n",
    "    downscaled_arr = xarray.Dataset.to_array(downscaled_day)\n",
    "    downscaled_flat = np.ndarray.flatten(downscaled_arr.data)\n",
    "dif = ERA5_flat - downscaled_flat \n",
    "dif_map = dif.reshape(256,256)\n",
    "dif2 = ERA5_flat - np.ndarray.flatten(arr_256)\n",
    "dif2map = dif2.reshape(256,256)\n",
    "\n"
   ]
  },
  {
   "cell_type": "code",
   "execution_count": null,
   "metadata": {},
   "outputs": [],
   "source": [
    "#plot day that is specified in the cell above, plot low res, high res, downscaled, interpolated and difference map\n",
    "import matplotlib.pyplot as plt\n",
    "import matplotlib.colors as colors\n",
    "import davos\n",
    "!pip install cmocean\n",
    "import cmocean\n",
    "norm= colors.PowerNorm(gamma=0.5)\n",
    "plt.rcParams['font.size'] = 16\n",
    "plt.rcParams['xtick.labelsize'] = 16\n",
    "plt.rcParams['ytick.labelsize'] = 16\n",
    "plt.rcParams['axes.labelsize'] = 16\n",
    "fig, axes = plt.subplots(1,5, figsize=(28,4))\n",
    "\n",
    "\n",
    "show(ERA20c*1000, ax=axes[0], title='ERA-20C', transform=ERA20c.transform, vmin=0, vmax=20,  cmap=davos.davos_map, interpolation=None) \n",
    "show(downscaled_arr*1000, ax=axes[1], title='Downscaled RMSE {:.2f}'.format((np.sqrt(dif_map **2)).mean()*1000),  transform = ERA5[4].transform, vmin=0, vmax=20,  cmap=davos.davos_map, interpolation=None) \n",
    "show(arr_256*1000, ax=axes[2], title='Interpolated RMSE {:.2f}'.format((np.sqrt(dif2map **2)).mean()*1000), transform=ERA5[4].transform, vmin=0, vmax=20,  cmap=davos.davos_map, interpolation=None)\n",
    "show(ERA5[4]*1000, ax=axes[3], title='ERA5', transform = ERA5[4].transform, vmin=0, vmax=20,  cmap=davos.davos_map, interpolation=None)\n",
    "show(dif_map*1000, ax=axes[4], title='Difference', transform = ERA5[4].transform, vmin=-20, vmax=20, cmap=cmocean.cm.balance)   \n",
    "\n",
    "for ax in axes[:-1]:\n",
    "    im = ax.get_images()[0]\n",
    "    ax.set_xlabel('Longitude')\n",
    "    ax.set_ylabel('Latitude')\n",
    "    ax.set_xticks(ticks=[-20, 0, 20, 40])\n",
    "    ax.set_yticks(ticks=[20, 40, 60, 80])\n",
    "    plt.colorbar(im, ax=ax, orientation='vertical', ticks=[0, 2, 5, 10,15,20], format='%.0f', fraction=0.046, pad=0.04)\n",
    "im= axes[-1].get_images()[0] \n",
    "\n",
    "axes[-1].set_xlabel('Longitude')\n",
    "axes[-1].set_ylabel('Latitude')\n",
    "plt.colorbar(im, ax=axes[-1], orientation='vertical', fraction=0.046, pad=0.04, format='%.0f')\n",
    "plt.savefig('fig.png')"
   ]
  },
  {
   "cell_type": "code",
   "execution_count": 29,
   "metadata": {},
   "outputs": [],
   "source": [
    "########  calculate MS-SSIM for report ###############\n",
    "from rasterio.transform import Affine\n",
    "from rasterio.enums import Resampling\n",
    "ssim_down=[]\n",
    "ssim_int=[]\n",
    "for i in range(364):\n",
    "    day_nr=i\n",
    "    day= np.s_[day_nr]\n",
    "    fileERA20C = files_era20C[day]\n",
    "    fileERA5 = files_era5[day]\n",
    "    blob = bucket.get_blob(fileERA20C)\n",
    "    blob2 = bucket.get_blob(fileERA5)                        \n",
    "    stream = io.BytesIO(blob.download_as_string())  \n",
    "    stream2 = io.BytesIO(blob2.download_as_string())  \n",
    "    with MemoryFile(stream) as memfile:                          \n",
    "        with memfile.open() as dataset:                          #open file, dataset contains all data\n",
    "            ERA20c = xarray.open_rasterio(dataset)\n",
    "            arr_256 = dataset.read(out_shape=(dataset.count, 256,256), resampling=Resampling.bilinear)\n",
    "    with MemoryFile(stream2) as memfile2:                          \n",
    "        with memfile2.open() as dataset2: \n",
    "            ERA5 = xarray.open_rasterio(dataset2)\n",
    "    with xarray.open_dataset('DownscaledERA20C-2000-2001.nc') as downscaled:\n",
    "        downscaled_day = downscaled.isel(time=day_nr).squeeze()\n",
    "        downscaled_arr = xarray.Dataset.to_array(downscaled_day)\n",
    "\n",
    "    im1=tf.convert_to_tensor(ERA5[4].data.reshape(1,256,256,1), dtype=tf.float32)\n",
    "    max_val = np.max(np.reshape(im1, [-1]))\n",
    "    im2=tf.convert_to_tensor(downscaled_arr.values.reshape(1,256,256,1), dtype=tf.float32)\n",
    "    im3=tf.convert_to_tensor(arr_256.reshape(1,256,256,1), dtype=tf.float32)\n",
    "    ssim_down.append(tf.image.ssim_multiscale(im1, im2, max_val=max_val, filter_size=8).numpy())\n",
    "    ssim_int.append(tf.image.ssim_multiscale(im1, im3, max_val=max_val, filter_size=8).numpy())\n",
    "list_down= np.concatenate(ssim_down, axis=0)\n",
    "list_int = np.concatenate(ssim_int, axis=0)"
   ]
  }
 ],
 "metadata": {
  "environment": {
   "name": "tf2-2-3-gpu.2-3.m56",
   "type": "gcloud",
   "uri": "gcr.io/deeplearning-platform-release/tf2-2-3-gpu.2-3:m56"
  },
  "kernelspec": {
   "display_name": "Python 3",
   "language": "python",
   "name": "python3"
  },
  "language_info": {
   "codemirror_mode": {
    "name": "ipython",
    "version": 3
   },
   "file_extension": ".py",
   "mimetype": "text/x-python",
   "name": "python",
   "nbconvert_exporter": "python",
   "pygments_lexer": "ipython3",
   "version": "3.6.5"
  }
 },
 "nbformat": 4,
 "nbformat_minor": 4
}
