{
 "cells": [
  {
   "cell_type": "markdown",
   "metadata": {},
   "source": [
    "This notebook downloads ERA20C precipitation data for the chosen year, using a web API. Since we want to have the total daily precipitation sum, we have to add day1 0:00-6:00 and day2 6:00-24:00 to have a full day (ECWMF starts day at 6:00)\n",
    "Information is in de the text blocks and decriptions marked with #"
   ]
  },
  {
   "cell_type": "markdown",
   "metadata": {
    "id": "1d68sfktrqwH"
   },
   "source": [
    "Steps that are taken:\n",
    "0. Check dates that are not uploaded yet\n",
    "1. Download data 2 days \n",
    "2. Calculate total sum P by adding day1 0:00-6:00 and day2 6:00-24:00\n",
    "3. Create new netcdf file\n",
    "4. Convert to geotiff (float32)\n",
    "5. Upload geotiff --> bucket\n",
    "6. Upload bucket --> Google Earth Engine \n",
    "7. Add Meta data"
   ]
  },
  {
   "cell_type": "code",
   "execution_count": null,
   "metadata": {
    "id": "WoXHNHz-WXaE"
   },
   "outputs": [],
   "source": [
    "#Choose year(s) that you want to download \n",
    "yearStart = 2001\n",
    "yearEnd = 2001"
   ]
  },
  {
   "cell_type": "markdown",
   "metadata": {},
   "source": [
    "Log in too GCP and GEE"
   ]
  },
  {
   "cell_type": "code",
   "execution_count": null,
   "metadata": {
    "colab": {
     "base_uri": "https://localhost:8080/",
     "height": 1000
    },
    "executionInfo": {
     "elapsed": 217852,
     "status": "ok",
     "timestamp": 1604390992692,
     "user": {
      "displayName": "Avelon Gerritsma",
      "photoUrl": "",
      "userId": "06946083862073514320"
     },
     "user_tz": -60
    },
    "id": "dfVAHSkDXOjI",
    "outputId": "11fbc1bf-efd5-4f3a-b5b3-a75d4fe16441",
    "scrolled": true
   },
   "outputs": [],
   "source": [
    "!gcloud auth login #login google cloud\n",
    "!pip install --upgrade earthengine-api\n",
    "!earthengine authenticate #login in GEE"
   ]
  },
  {
   "cell_type": "markdown",
   "metadata": {},
   "source": [
    "Look at files stored in Bucket on GCP"
   ]
  },
  {
   "cell_type": "code",
   "execution_count": null,
   "metadata": {
    "colab": {
     "base_uri": "https://localhost:8080/"
    },
    "executionInfo": {
     "elapsed": 2677,
     "status": "ok",
     "timestamp": 1604397969225,
     "user": {
      "displayName": "Avelon Gerritsma",
      "photoUrl": "",
      "userId": "06946083862073514320"
     },
     "user_tz": -60
    },
    "id": "yNnqKm7XXOjL",
    "outputId": "663dc6dd-96a2-4964-fde0-9a5187c0a67f"
   },
   "outputs": [],
   "source": [
    "#create list of data downloaded and converted (saved in bucket) \n",
    "bucket= 'gs://era-ml-upressing/ERA20C2000/'\n",
    "lsturl = !gsutil ls $bucket\n",
    "files=[]\n",
    "for file in lsturl:\n",
    "  files.append(file.split(\"/\")[-1][0:8])\n",
    "files=files[1:]\n",
    "files\n"
   ]
  },
  {
   "cell_type": "code",
   "execution_count": null,
   "metadata": {
    "colab": {
     "base_uri": "https://localhost:8080/"
    },
    "executionInfo": {
     "elapsed": 574,
     "status": "ok",
     "timestamp": 1604391079931,
     "user": {
      "displayName": "Avelon Gerritsma",
      "photoUrl": "",
      "userId": "06946083862073514320"
     },
     "user_tz": -60
    },
    "id": "FA4Lwo-Z1eoF",
    "outputId": "937d5073-a805-4e3f-bd25-b7474d13a0f6"
   },
   "outputs": [],
   "source": [
    "#add day before year start so all days can be done, so for 2001--> 2000-12-31 since you need data of day before 0:00-6:00\n",
    "#here a list of all dates that need to be downloaded are created\n",
    "import calendar\n",
    "dates=['20001231']\n",
    "monthStart = 1\n",
    "monthEnd = 12\n",
    "for year in list(range(yearStart, yearEnd + 1)):\n",
    "    for month in list(range(monthStart, monthEnd + 1)):\n",
    "        numberOfDays = calendar.monthrange(year, month)[1]\n",
    "        for day in list(range(1,numberOfDays+1)):\n",
    "          date = '%04d%02d%02d' % (year, month, day)\n",
    "          dates.append(date)          \n",
    "dates"
   ]
  },
  {
   "cell_type": "code",
   "execution_count": null,
   "metadata": {
    "colab": {
     "base_uri": "https://localhost:8080/"
    },
    "executionInfo": {
     "elapsed": 2442718,
     "status": "ok",
     "timestamp": 1604400444667,
     "user": {
      "displayName": "Avelon Gerritsma",
      "photoUrl": "",
      "userId": "06946083862073514320"
     },
     "user_tz": -60
    },
    "id": "8ENGfLvjzg6-",
    "outputId": "0369b5fb-2a1b-4549-ed55-90cdc7ff3a54"
   },
   "outputs": [],
   "source": [
    "!pip install ecmwf-api-client\n",
    "!pip install --user ecmwf-api-client\n",
    "!apt install file netcdf-bin #to create netcdf files\n",
    "!pip install xarray==0.15.1\n",
    "# download data from ECMWF\n",
    "import calendar\n",
    "import numpy as np\n",
    "import xarray\n",
    "from ecmwfapi import ECMWFDataServer\n",
    "server = ECMWFDataServer(url=\"https://api.ecmwf.int/v1\",key=**,email=**)\n",
    "for date in dates:\n",
    "  target = date + \".nc\"\n",
    "  server.retrieve({\n",
    "      'dataset' : 'era20c',\n",
    "      'stream'  : 'oper',\n",
    "      'levtype' : 'sfc',\n",
    "      'param'   : '228.128',\n",
    "      'date'    : date,\n",
    "      'type'    : 'fc',\n",
    "      'time'    : '06',\n",
    "      'step'    : '18/24',\n",
    "      'area'    : \"90/-180/-90/180\",\n",
    "      'grid'    : '1/1',\n",
    "      'target'  : target,\n",
    "      'format'  : 'netcdf'\n",
    "      })\n",
    "for numdate in range(len(dates)-1):\n",
    "  date=dates[numdate]\n",
    "  filename = date + \".nc\"\n",
    "  nextday = dates[numdate + 1]\n",
    "  year=nextday[:4]\n",
    "  filenamenextday = nextday + \".nc\"\n",
    "  arr = xarray.open_dataset(filename)\n",
    "  #get data 0-6AM nextday\n",
    "  from_6_to_6 = arr.isel(time=1)\n",
    "  from_6_to_24 =  arr.isel(time=0)\n",
    "  from_24_to_6 = np.subtract(from_6_to_6.tp, from_6_to_24.tp)\n",
    "  #add 6-24h data nextday to have data between 0-24h\n",
    "  arr2 = xarray.open_dataset(filenamenextday)\n",
    "  tempfile = np.add(arr2.isel(time=0).tp, from_24_to_6)\n",
    "  tempfile.values[tempfile.values < 0] = 0\n",
    "  newfilename = nextday + \"data.nc\"\n",
    "  tempfile.to_netcdf(newfilename)     #save added data as nc file\n",
    "  nametiff = nextday + '.tiff'\n",
    "  !gdal_translate -a_srs WGS84 -unscale -ot Float32 NETCDF:$newfilename $nametiff  #convert from netcdf to geotiff, name= data.tiff\n",
    "  !gsutil cp $nametiff $bucket #copy dataset to bucket\n",
    "  image_id = 'users/avelon98/ERA20C{year}/{nextday}'.format(nextday=nextday, year=year)\n",
    "  URLBucket = bucket + nextday + '.tiff'\n",
    "  !earthengine upload image --asset_id=$image_id $URLBucket #upload from bucket to GEE"
   ]
  },
  {
   "cell_type": "code",
   "execution_count": null,
   "metadata": {
    "colab": {
     "base_uri": "https://localhost:8080/",
     "height": 1000
    },
    "executionInfo": {
     "elapsed": 4131197,
     "status": "ok",
     "timestamp": 1599566043666,
     "user": {
      "displayName": "Avelon Gerritsma",
      "photoUrl": "",
      "userId": "06946083862073514320"
     },
     "user_tz": -120
    },
    "id": "clu90yAUbmPV",
    "outputId": "786e0894-78a2-462a-d5de-dff76f6edf58"
   },
   "outputs": [],
   "source": [
    "#add metadata for GEE: dates, units\n",
    "for date in dates[1:]:\n",
    "  year=date[:4]\n",
    "  image_id = 'users/avelon98/ERA20C{year}/{date}'.format(date=date, year=year)\n",
    "  image_collection_id = 'users/avelon98/ERA20C{year}'.format(year=year)\n",
    "  date1=date[0:4]+'-'+date[4:6]+'-'+date[6:8]\n",
    "  !earthengine asset set --time_start $date1 $image_id\n",
    "for year in list(range(yearStart, yearEnd + 1)):\n",
    "  image_collection_id = 'users/avelon98/ERA20C{year}'.format(year=year)\n",
    "  !earthengine asset set -p 'unit=m' $image_collection_id\n",
    "  !earthengine asset set -p 'variable=Total_precipition' $image_collection_id"
   ]
  }
 ],
 "metadata": {
  "colab": {
   "authorship_tag": "ABX9TyO0i+QSv2LEz4uCtudl4z0X",
   "collapsed_sections": [],
   "name": "ERA20Cnew_2007-2008.ipynb",
   "provenance": []
  },
  "kernelspec": {
   "display_name": "Python 3",
   "language": "python",
   "name": "python3"
  },
  "language_info": {
   "codemirror_mode": {
    "name": "ipython",
    "version": 3
   },
   "file_extension": ".py",
   "mimetype": "text/x-python",
   "name": "python",
   "nbconvert_exporter": "python",
   "pygments_lexer": "ipython3",
   "version": "3.6.5"
  }
 },
 "nbformat": 4,
 "nbformat_minor": 1
}
